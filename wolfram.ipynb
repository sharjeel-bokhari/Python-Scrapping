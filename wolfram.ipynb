{
 "cells": [
  {
   "cell_type": "code",
   "execution_count": 5,
   "id": "376f84e6",
   "metadata": {},
   "outputs": [],
   "source": [
    "from selenium import webdriver\n",
    "import os\n",
    "import time\n",
    "from selenium.webdriver.common.by import By\n",
    "from webdriver_manager.chrome import ChromeDriverManager"
   ]
  },
  {
   "cell_type": "code",
   "execution_count": 6,
   "id": "35d607b5",
   "metadata": {},
   "outputs": [
    {
     "name": "stderr",
     "output_type": "stream",
     "text": [
      "/var/folders/53/0b66j57n1j73p121668hr4v00000gn/T/ipykernel_20500/4216795989.py:18: DeprecationWarning: executable_path has been deprecated, please pass in a Service object\n",
      "  driver = webdriver.Chrome(ChromeDriverManager().install(),options=options)\n"
     ]
    }
   ],
   "source": [
    "#Headless Browser\n",
    "user_agent = \"Mozilla/5.0 (Macintosh; Intel Mac OS X 10_15_7) AppleWebKit/605.1.15 (KHTML, like Gecko) Version/16.3 Safari/605.1.15\"\n",
    "options = webdriver. ChromeOptions ( )\n",
    "options.headless = True\n",
    "options.add_argument (f\"user-agent-{user_agent}\")\n",
    "options.add_argument (\"_-window-size=1920,1080\")\n",
    "options.add_argument ('--ignore-certificate-errors')\n",
    "options. add_argument\n",
    "('~-allow-running-insecure-content')\n",
    "options.add_argument (\"_-disable-extensions\")\n",
    "options.add_argument (\"_-proxy-server='direct://'\")\n",
    "options.add_argument (\"--proxy-bypass-list=*\")\n",
    "options.add_argument (\"_-start-maximized\")\n",
    "options.add_argument ('_-disable-gpu')\n",
    "options.add_argument (' --disable-dev-shm-usage')\n",
    "options.add_argument ('_-no-sandbox')\n",
    "\n",
    "driver = webdriver.Chrome(ChromeDriverManager().install(),options=options)\n"
   ]
  },
  {
   "cell_type": "code",
   "execution_count": 7,
   "id": "140d92a8",
   "metadata": {},
   "outputs": [
    {
     "name": "stdout",
     "output_type": "stream",
     "text": [
      "Wolfram|Alpha: Computational Intelligence\n"
     ]
    }
   ],
   "source": [
    "driver.get(\"https://www.wolframalpha.com\")\n",
    "print(driver.title)"
   ]
  },
  {
   "cell_type": "code",
   "execution_count": 8,
   "id": "851e67c0",
   "metadata": {},
   "outputs": [
    {
     "name": "stdout",
     "output_type": "stream",
     "text": [
      "Equation:\t2x+4=11\n"
     ]
    }
   ],
   "source": [
    "give_input = driver.find_element(By.CLASS_NAME, \"_fe6c\")\n",
    "give_input2 = give_input.find_element(By.CLASS_NAME,\"_i5f3\")\n",
    "equation = input(\"Equation:\\t\")\n",
    "give_input2.send_keys(equation)\n",
    "submit_eq = give_input.find_element(By.CLASS_NAME,\"_WUpc\")\n",
    "submit_eq.click()"
   ]
  },
  {
   "cell_type": "code",
   "execution_count": 9,
   "id": "401d3f0d",
   "metadata": {},
   "outputs": [],
   "source": [
    "ans = driver.find_elements(By.CLASS_NAME,\"_r3rL\")"
   ]
  },
  {
   "cell_type": "code",
   "execution_count": 21,
   "id": "f53442a8",
   "metadata": {},
   "outputs": [
    {
     "name": "stdout",
     "output_type": "stream",
     "text": [
      "Input\n",
      "Plot\n",
      "Alternate forms\n",
      "Number line\n",
      "Solution\n"
     ]
    }
   ],
   "source": [
    "for i in ans_title:\n",
    "    print(i.accessible_name)"
   ]
  },
  {
   "cell_type": "code",
   "execution_count": 19,
   "id": "ec87ffab",
   "metadata": {},
   "outputs": [],
   "source": [
    "# time.sleep(5)\n",
    "\n",
    "ans_title = driver.find_elements(By.CLASS_NAME,\"_vZm1\")\n",
    "answers = {}"
   ]
  },
  {
   "cell_type": "code",
   "execution_count": null,
   "id": "a6c6ce2b",
   "metadata": {},
   "outputs": [],
   "source": [
    "for i in range(len(ans)):\n",
    "    value = ans[i].find_element(By.CLASS_NAME,\"_Xijx\")\n",
    "    values = value.get_attribute(\"src\")\n",
    "    key = ans_title[i].text\n",
    "    answers[key] = values\n",
    "\n",
    "answers.keys()"
   ]
  },
  {
   "cell_type": "code",
   "execution_count": 15,
   "id": "d7f59f27",
   "metadata": {},
   "outputs": [
    {
     "name": "stdout",
     "output_type": "stream",
     "text": [
      "data:image/gif;base64,R0lGODlhUQATAOYAAAAAAAICAgMDAwUFBQYGBggICA8PDxAQEBISEhkZGRwcHCQkJCcnJyoqKiwsLC0tLTIyMjMzMzg4ODw8PEBAQENDQ0REREZGRkdHR0pKSktLS01NTU5OTk9PT1BQUFNTU1VVVVdXV1hYWFlZWVpaWlxcXF1dXWFhYWNjY2RkZGdnZ21tbW5ubm9vb3BwcHZ2dnd3d3t7e35+foKCgoSEhIeHh4iIiImJiYqKipGRkZKSkpaWlpmZmZqampycnJ+fn6CgoKWlpaampqenp6ioqK+vr7Ozs7a2tre3t7i4uLu7u76+vr+/v8DAwMLCwsbGxsfHx8nJyczMzM/Pz9PT09TU1NXV1djY2NnZ2dra2tvb2+Dg4OHh4eLi4uPj4+jo6Onp6ezs7O3t7e/v7/Dw8PPz8/X19fj4+Pn5+fr6+vv7+/z8/P39/f7+/v///wAAAAAAAAAAAAAAAAAAAAAAAAAAAAAAAAAAAAAAAAAAAAAAAAAAAAAAAAAAAAAAAAAAACwAAAAAUQATAAAH/4BugoOEhYaHiImKi4yNjo+QkZKTlJWWl5iZmpucWyITDBpYnIVjDECXYkEjB2GDqqyuggw0bmgbC2qkgmkWBqiWRT46ALJuwsSybBREgkcAVYRGDRJrbjMJT4c80YkoNRPAl03FheTGhEIBY4VXBFFJLDFbhypMiTgmbuGZ5+blhjiUOCRChgpF9hAVmXBmn7hBaSpInDhxBSJ/hDAS6uGAzKEhBJoYaoOkZIYbJacQktIAjCB+hdpomUmTppeLAAdpFJTjgsdDNghYMcSmhdEHH4z+IJRCQIGnAAYUQDdppxuNbFycSONGzJJCZVxgwIHw3iKYhNJ0WMuW7QucVFMxmvEQgkqVKjtcDFIChYQXHBHaJEp49qGgNlMSK1acBe4/WUAASJ6sVxAMBELccFEAQmQ9s4rQUvoCAgIADJVJm0a9i5GTLq1jy55Nu7bt24UCAQA7\n",
      "\n",
      "\n",
      "\n",
      "data:image/gif;base64,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\n",
      "\n",
      "\n",
      "\n",
      "data:image/gif;base64,R0lGODlhMAATAOYAAAAAAAICAgYGBhAQEBISEhYWFhkZGRwcHB4eHiAgICMjIyQkJCcnJyoqKiwsLDAwMDMzMzg4ODk5OTw8PD4+PkBAQENDQ0ZGRkdHR0tLS01NTU5OTk9PT1BQUFVVVVdXV1hYWFpaWlxcXF9fX2FhYWdnZ21tbW5ubnBwcHZ2dnd3d3t7e35+foKCgoSEhIWFhYiIiIqKipGRkZSUlJaWlpqamqCgoKKioqOjo6ampqenp6ioqKmpqbKysrOzs7a2tri4uLu7u76+vsDAwMbGxsfHx8nJyc/Pz9PT09TU1NXV1djY2NnZ2dra2tvb29zc3ODg4OHh4ePj4+3t7e/v7/Dw8PPz8/T09PX19fn5+fr6+vv7+/z8/P39/f7+/v///wAAAAAAAAAAAAAAAAAAAAAAAAAAAAAAAAAAAAAAAAAAAAAAAAAAAAAAAAAAAAAAAAAAAAAAAAAAAAAAAAAAAAAAAAAAAAAAAAAAAAAAAAAAAAAAAAAAAAAAAAAAAAAAACwAAAAAMAATAAAH5YBfgoOEhYaHiImKi4yNjo+QkZKTlJWKUCATDBlMlowDAKGhBV8MLl9ZGgtbnooJT7BPHy9dFTuCPwBJhD4NEVxfLQZElTeDUAhXhTkBVIVLAkZAJytQrV8jM4YbIocgLCWHWhbk5eUmiUgKWYU1DlWHOgJDh15O9/j4UokbOIUyF+AdgiFAybUvRBx0GdQFBQktX6YIKWQFBYYY4jho3LgxBSIKPQZh6fABSZIkNFAMClIkhJQYELwY8nKkpk2bTQ79kEDIhihRKgWpIJDjS5QDHuhV8vJA6cFIVXg8nUq1qlVCgQAAOw==\n",
      "\n",
      "\n",
      "\n",
      "data:image/gif;base64,R0lGODlhWgATAOYAAAAAAAICAgMDAwYGBggICA8PDxAQEBISEhkZGRoaGhwcHCQkJCcnJyoqKiwsLC0tLTIyMjMzMzU1NTg4ODw8PD4+PkBAQEJCQkNDQ0ZGRkdHR0pKSktLS01NTU5OTk9PT1BQUFNTU1VVVVdXV1hYWFlZWVpaWlxcXGFhYWNjY2RkZGdnZ21tbW5ubm9vb3BwcHZ2dnd3d3t7e35+foKCgoSEhIaGhoiIiImJiYqKiouLi4+Pj5GRkZKSkpaWlpmZmZqampycnJ+fn6CgoKOjo6Wlpaampqenp6ioqKmpqa+vr7Ozs7a2tre3t7i4uLu7u7y8vL6+vr+/v8DAwMXFxcbGxsfHx8nJyc3Nzc7Ozs/Pz9DQ0NHR0dPT09TU1NXV1dfX19jY2NnZ2dra2tvb297e3uDg4OHh4ePj4+jo6Orq6uzs7O3t7e/v7/Dw8PHx8fPz8/X19ff39/n5+fr6+vv7+/z8/P39/f7+/v///wAAAAAAAAAAAAAAAAAAAAAAACwAAAAAWgATAAAH/4B5goOEhYaHiImKi4yNjo+QkZKTlJWWl5iZmpucnZBmJBQMHGKGdjtomqCipHlZRJhsRSUGa4OytLaCDDV5cx0LdYUoXJu8vsDCRzmXSkE9ALp5ztC6dxZIgkwAXoRGKYNLDRN2eTQIVYc/3YbX2Xnb7BNamFPRhfbS3gFthBJMhMIMuOKkhQwzh1ZIYWSEnyAbKurdI5TvkIcThNRMHERixgpFChldHAQlQSE6GFKqVMkCUUWKGwcBceCGEBYBeAodGTDFEJ4mQDfgAErv0MyagrYEEDYID5mnUKGmOvRyUFVBPDIgHXSFgKEbA760c0H2QQiyQg5l3ZoHDIA5l6Su5ql65wUKOnnYRBlU5i0hOC80MEsU8lDdu3n35rlS4OSHx5Ahw3AZc+7EOCBGdPHixceLQXYOhBH0xIoJNDki5ERUuBBmzZw9C0pSoRAeLbhz5x5DWZ9lXUMACB/+eRCKIIJiHDCS54wCET0TLjQUfLjw4i14WEojAgIADcW5ewffyMyFO54KsakgJ/0kKjrcC5oTA6F8SWbOyOfy5r7//5gEAgA7\n",
      "\n",
      "\n",
      "\n",
      "data:image/gif;base64,R0lGODlhSAATAOYAAAAAAAICAgUFBQYGBhAQEBISEhMTExYWFhkZGRwcHB4eHiAgICMjIyQkJCcnJyoqKiwsLC4uLjAwMDMzMzQ0NDU1NTg4ODk5OTw8PD4+Pj8/P0BAQEFBQUJCQkNDQ0ZGRkdHR0tLS01NTU5OTk9PT1BQUFVVVVdXV1hYWFpaWlxcXF9fX2FhYWdnZ21tbW5ubm9vb3BwcHZ2dnd3d3t7e3x8fH5+foKCgoSEhIWFhYaGhoeHh4iIiImJiYqKipGRkZSUlJaWlpqamp+fn6CgoKKioqOjo6ampqenp6ioqKmpqaqqqqurq7KysrOzs7a2tre3t7i4uLu7u76+vsDAwMbGxsfHx8nJyc/Pz9PT09TU1NXV1djY2NnZ2dra2tvb29zc3N7e3t/f3+Dg4OHh4ePj4+3t7e/v7/Dw8PLy8vPz8/T09PX19fb29vf39/j4+Pn5+fr6+vv7+/z8/P39/f7+/v///wAAAAAAAAAAAAAAAAAAAAAAAAAAAAAAAAAAACwAAAAASAATAAAH/4B2goOEhYaHiImKi4yNjo+QkZKTlJWWl5iZmopjKBgOIV2bgwQApqYHlj4aHSpogg44dnAiDXKjdgtgu2AnOZU7FG52NRV2dBtJgk8AWoRODxZzdjcIVZFFg2MKa5RtBkeCaAJRhUcBZ4VcA1dRLzRjlStAlVcAYYMRM4UjKocoNlpcysIATqE4HhIqVOiiEBMAaQZ1QEFICIRXhpAMoGKoDpSPIKFgQTTCSMcvKFOmLFNoCQA1gzhQFPTjA0ZDPAZsMUQHhs+fMIYcqgKBjiV7YvLtoxODRRw7ZqYUUhMDhA9LGZocikOiq1evMgp9QyJOABQ2JU5k0aIlSIxBUkGspCjjY0IdSk8uIKqDpa9fv14M6ajwhpgxIqdOvRU0o0A4MglMcIxUR8JkTD00cEiRDhciNEo8ix5NurTp05ICAQA7\n",
      "\n",
      "\n",
      "\n",
      "data:image/gif;base64,R0lGODlhSgE8AOYAAEFBQUREREZGRkdHR09PT1BQUFJSUlNTU1VVVVhYWFlZWVtbW15eXmBgYGFhYWVlZWdnZ2hoaHFxcXNzc3R0dHl5eXp6ent7e319fT89mV5cqYODg4aGhoeHh4mJiYqKioyMjI2NjZGRkZKSkpOTk5WVlZubm52dnZ6enp+fn6CgoKGhoaKioqSkpKWlpaampqenp6ioqKmpqaqqqqysrK6urrCwsLKysrm5uby8vL29vb6+vsDAwMHBwcPDw8XFxcrKyszMzM3NzdDQ0NHR0dPT09TU1NbW1tfX19zc3Nzc7d3d7d/e7t/f7uTk5OXl5ebm5ufn5+rq6uvr6+zs7O7u7u/v7/Dw8PHx8fLy8vPz8/T09Pf39/j4+Pn5+fv7+/z8/Pz8/f39/f7+/v///wAAAAAAAAAAAAAAAAAAAAAAAAAAAAAAAAAAAAAAAAAAAAAAAAAAAAAAAAAAAAAAAAAAAAAAAAAAAAAAAAAAAAAAAAAAAAAAAAAAAAAAAAAAACwAAAAASgE8AAAH/4BkgoOEhYaHiImKi4yNjo+QkZKTlJWWl5iZmpucnZ6foKGio6SlpqeoqaqrrK2ur7CxsrO0tba3uLm6u7y9vr/AwcLDxMW6YUpKYcbMzc6nTBoZGRpMz9fY2ZVh0tPUy9rh4uODSt7eS+Tq687m5xnp7PLzv9znGuD0+vu20dMaTfgJHBgrzJIl+QgqXMiwocOHECNKnEixosVxQLJl1MgR20ZHHxmFXDQyUUmTIB+dRLTSUEuXKlPKFBlzJsmaNG3eRPSip8+fQIMKHUq0qNGjSJMqXcq0qdOnUKNKnUrV58WrWLNq3cq1q9evYLV9AbGCQ49CChgwuADsS4cXGP+EFLqBQoTctm/jolXLNtgYCCPp2hX2d2TatYN6bCBTxEChEcOAoCCjIwIhKAnEXCkABphkypYJQSamo0FIzJo5Bys9cjQhMV3IDBEwZtAXFsZwSCBUg4IgAkaG6SZ0m1gXFxVC9v4d/Nfx5MRxIyrhgVCWDTEm2AhGhIYHKIRMVCfzgAd37+AHXc++HRiMKtAHiRdU3j38kOu1F/oRorPtKmRQEQAVwHDBxQqLyTdefQUemKAgXwAoIIG+SNECGfEJMh955lV4YYZkRBjggIMgoYIiwAmTBQBRDLIcGQUUMcyKLRqSoi8eiHDCAhsc4aJvMMqIo448+mhjc1R8IIjDFU6A8QMZOOQQ4ABZ/NJCcFkEoIWTZDyhwBhYEOCfL1eSkeWWT0Y5ZZXBQMell2CKKYybaUpJBZUaIuCAAwVcEcUBW0xRgQwk+ABMEhbM0MEOZPy5BRk2pDBCEMEgqiijjgpKqKHBALHACF44CqmklHb6aaiAalpoWKy26uqrsMYq66y01mrrrbjmquuuvPbq66/ABivssMQWa+yxyCar7LLMNuvss9BGK+201FZr7bXYZqvtttx26+234IYr7rjkchIIADs=\n",
      "\n",
      "\n",
      "\n",
      "data:image/gif;base64,R0lGODlhJgIlAOYAAAAAAAICAgYGBhAQEBISEhYWFhkZGRwcHB4eHiAgICMjIyQkJCcnJyoqKiwsLDAwMDMzMzg4ODk5OTw8PD4+PkBAQENDQ0ZGRkdHR0tLS01NTU5OTk9PT1BQUFVVVVdXV1hYWFpaWlxcXF9fX2FhYWdnZ21tbW5ubnBwcHZ2dnd3d3t7e35+foKCgoSEhIWFhYiIiIqKipGRkZSUlJaWlpqamqCgoKKioqOjo6ampqenp6ioqKmpqbKysrOzs7a2tri4uLu7u76+vsDAwMbGxsfHx8nJyc/Pz9PT09TU1NXV1djY2NnZ2dra2tvb29zc3ODg4OHh4ePj4+3t7e/v7/Dw8PPz8/T09PX19fn5+fr6+vv7+/z8/P39/f7+/v///wAAAAAAAAAAAAAAAAAAAAAAAAAAAAAAAAAAAAAAAAAAAAAAAAAAAAAAAAAAAAAAAAAAAAAAAAAAAAAAAAAAAAAAAAAAAAAAAAAAAAAAAAAAAAAAAAAAAAAAAAAAAAAAACwAAAAAJgIlAAAH/4BfgoOEhYaHhAMAi4sFiI+QkZKTlJWWl5iZmpucnZ6foKGio6SlpqeQCU+rTx8vqLCxsrO0tba3uLm6u503g1AIV7zDxMXGx8jJysumIzPM0NHS09TV1tVIClnX3N3e3+Dh4Rs44ubn6Onq65xEDl3s8fLz9PXQFD32+vv8/f6cPyT8G0iwoMF5Xh4MOciwocOHzKrwgEixosWLGDNq3Mixo8ePIEOKHEmypDofDSJw+dLCABGTMGPKZLZEgBEgJ1ZAmcmzp89bIFiUOKTFgtGjR00cYsC0KYMaP6NK9alDwEJDXpxo3bpVytSvYMHCEKAkrNmzaAlZQYEhBlEOcKDjxk2Rtq7djUGKhJASA4IXrEcCCxbc5K7hww9VEMjxJcoBD1cRS55MubLly5gza97MubPnkFBATGCQgcnn06i7MXDxJYuGBVtSy569rEuFHYJ+AEhCu7fvYzkCUPlNvDiuDSKMK1+OqoaDKsyjS/ck4wL06dizT+qCgoSWL1OEaB9PXhCWDh+QJElCA0X599htMGLkHr79+/jz69/Pn2MgADs=\n",
      "\n",
      "\n",
      "\n"
     ]
    }
   ],
   "source": [
    "for i in ans:\n",
    "    print(i.find_element(By.CLASS_NAME,\"_Xijx\").get_attribute(\"src\"))\n",
    "    print(\"\\n\\n\")"
   ]
  },
  {
   "cell_type": "code",
   "execution_count": 3,
   "id": "3c8389fb",
   "metadata": {},
   "outputs": [
    {
     "data": {
      "text/plain": [
       "7"
      ]
     },
     "execution_count": 3,
     "metadata": {},
     "output_type": "execute_result"
    }
   ],
   "source": [
    "len(ans)"
   ]
  },
  {
   "cell_type": "code",
   "execution_count": 4,
   "id": "e1ab2ca9",
   "metadata": {},
   "outputs": [
    {
     "data": {
      "text/plain": [
       "5"
      ]
     },
     "execution_count": 4,
     "metadata": {},
     "output_type": "execute_result"
    }
   ],
   "source": [
    "len(ans_title)"
   ]
  },
  {
   "cell_type": "code",
   "execution_count": null,
   "id": "7335a19d",
   "metadata": {},
   "outputs": [],
   "source": []
  }
 ],
 "metadata": {
  "kernelspec": {
   "display_name": "Python 3 (ipykernel)",
   "language": "python",
   "name": "python3"
  },
  "language_info": {
   "codemirror_mode": {
    "name": "ipython",
    "version": 3
   },
   "file_extension": ".py",
   "mimetype": "text/x-python",
   "name": "python",
   "nbconvert_exporter": "python",
   "pygments_lexer": "ipython3",
   "version": "3.9.15"
  }
 },
 "nbformat": 4,
 "nbformat_minor": 5
}
